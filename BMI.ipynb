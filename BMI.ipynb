{
 "cells": [
  {
   "cell_type": "markdown",
   "id": "bff7f9f2",
   "metadata": {},
   "source": [
    "# BMI Calculator"
   ]
  },
  {
   "cell_type": "code",
   "execution_count": 1,
   "id": "7d3296f8",
   "metadata": {},
   "outputs": [
    {
     "name": "stdout",
     "output_type": "stream",
     "text": [
      "Do you want to enter height in centimeters (press 1) or inches (press 2): 1\n",
      "Enter your height in centimeters: 165\n",
      "Do you want to enter weight in kilograms (press 1) or pounds (press 2): 5\n",
      "Invalid input.\n",
      " Please enter 1 or 2 for kg or lb: 1\n",
      "Enter your weight in kilograms: 68\n",
      "Your BMI is : 24.98\n",
      "You are having healthy weight\n"
     ]
    }
   ],
   "source": [
    "ht_unit = int(input(\"Do you want to enter height in centimeters (press 1) or inches (press 2): \"))\n",
    "if (ht_unit!=1 & ht_unit!=2):\n",
    "    print(\"Invalid input.\")\n",
    "    ht_unit = int(input(\" Please enter 1 or 2 for cm or in: \"))\n",
    "if ht_unit == 1:\n",
    "    ht = int(input(\"Enter your height in centimeters: \"))\n",
    "else:\n",
    "    ht = int(input(\"Enter your height in inches: \"))\n",
    "if ht_unit == 1:\n",
    "    H = ht\n",
    "else:\n",
    "    H = ht*0.3937 \n",
    "\n",
    "wt_unit = int(input(\"Do you want to enter weight in kilograms (press 1) or pounds (press 2): \"))\n",
    "if (wt_unit!=1 & wt_unit!=2):\n",
    "    print(\"Invalid input.\")\n",
    "    wt_unit = int(input(\" Please enter 1 or 2 for kg or lb: \"))\n",
    "if wt_unit == 1:\n",
    "    wt = int(input(\"Enter your weight in kilograms: \"))\n",
    "else:\n",
    "    wt = int(input(\"Enter your weight in pounds: \"))\n",
    "if wt_unit == 1:\n",
    "    W = wt\n",
    "else:\n",
    "    W = wt*2.2046\n",
    "    \n",
    "BMI = round(W/(H/100)**2,ndigits=2)\n",
    "\n",
    "print(\"Your BMI is : {}\".format(BMI))\n",
    "\n",
    "if BMI<18.5:\n",
    "    print(\"You are underweight\")\n",
    "elif BMI<25:\n",
    "    print(\"You are having healthy weight\")\n",
    "elif BMI<30:\n",
    "    print(\"You are overweight\")\n",
    "else:\n",
    "    print(\"You are obese\")\n"
   ]
  }
 ],
 "metadata": {
  "kernelspec": {
   "display_name": "Python 3 (ipykernel)",
   "language": "python",
   "name": "python3"
  },
  "language_info": {
   "codemirror_mode": {
    "name": "ipython",
    "version": 3
   },
   "file_extension": ".py",
   "mimetype": "text/x-python",
   "name": "python",
   "nbconvert_exporter": "python",
   "pygments_lexer": "ipython3",
   "version": "3.9.13"
  }
 },
 "nbformat": 4,
 "nbformat_minor": 5
}
